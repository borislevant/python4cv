{
 "cells": [
  {
   "cell_type": "markdown",
   "id": "2ca38bd8-70b6-459b-a7eb-1bae08409348",
   "metadata": {},
   "source": [
    "<a href=\"https://githubtocolab.com/borislevant/python4cv/blob/main/basic_image_operations.ipynb\" target=\"_parent\"><img src=\"https://colab.research.google.com/assets/colab-badge.svg\" alt=\"Open in Colab\"/></a>\n",
    "\n",
    "# Basic Image Operations with OpenCV-Python\n",
    "\n",
    "[![scikit-learn logo](./img/opencv-logo-small.png)](https://docs.opencv.org/3.4/d0/de3/tutorial_py_intro.html)\n",
    "\n",
    "There are few packages in Python that are built to work with images: ```OpenCV```, ```Scikit-Image``` and ```Pillow```. In this session we will learn the basic image operaitons using the OpenCV and in particular it's Python API - ```OpenCV-Python```. \n",
    "\n",
    "OpenCV was started at Intel in 1999 by Gary Bradsky, and the first release came out in 2000. Vadim Pisarevsky joined Gary Bradsky to manage Intel's Russian software OpenCV team. In 2005, OpenCV was used on Stanley, the vehicle that won the 2005 DARPA Grand Challenge. Later, its active development continued under the support of Willow Garage with Gary Bradsky and Vadim Pisarevsky leading the project. OpenCV now supports a multitude of algorithms related to Computer Vision and Machine Learning and is expanding day by day.\n",
    "\n",
    "OpenCV supports a wide variety of programming languages such as C++, Python, Java, etc., and is available on different platforms including Windows, Linux, OS X, Android, and iOS. Interfaces for high-speed GPU operations based on CUDA and OpenCL are also under active development. OpenCV-Python is the Python API for OpenCV, combining the best qualities of the OpenCV C++ API and the Python language.\n",
    "\n",
    "To install ```OpenCV-Python``` we run\n",
    "```\n",
    "pip install opencv-python \n",
    "```\n",
    "In order to ensure that we have installed the package correctly, lets run the following code\n"
   ]
  },
  {
   "cell_type": "code",
   "execution_count": 3,
   "id": "de3c1e27-1a24-4146-a998-5f27a08d8046",
   "metadata": {},
   "outputs": [
    {
     "data": {
      "text/plain": [
       "'4.7.0'"
      ]
     },
     "execution_count": 3,
     "metadata": {},
     "output_type": "execute_result"
    }
   ],
   "source": [
    "import cv2\n",
    "cv2.__version__"
   ]
  },
  {
   "cell_type": "markdown",
   "id": "ed3d506c-142c-4bf2-a4d5-84255899d525",
   "metadata": {},
   "source": [
    "We will also need the following packages to manipulate the images and to display the images inside the Jupyter notebook\n"
   ]
  },
  {
   "cell_type": "code",
   "execution_count": 6,
   "id": "f6381972-1005-447c-ba5c-daf9530f6b25",
   "metadata": {},
   "outputs": [],
   "source": [
    "import numpy as np\n",
    "import matplotlib.pyplot as plt\n",
    "%matplotlib inline\n"
   ]
  },
  {
   "cell_type": "markdown",
   "id": "a09d319f-ea97-4994-9bdd-1a56f062e8e2",
   "metadata": {},
   "source": [
    "### Read and Save Images\n",
    "\n",
    "In this section we will learn how to read and display images using OpenCV. In order to do it we will use the function ```imread```. It accepts 2 parameters. The first one is the path to the image file and the second one is the format of the image we want to load that can have 3 values:\n",
    "* ```cv2.IMREAD_COLOR```: It specifies to load a color image. Any transparency of image will be neglected. It is the default flag. Alternatively, we can pass integer value 1 for this flag\n",
    "* ```cv2.IMREAD_GRAYSCALE```: It specifies to load an image in grayscale mode. Alternatively, we can pass integer value 0 for this flag\n",
    "* ```cv2.IMREAD_UNCHANGED```: It specifies to load an image as such including alpha channel. Alternatively, we can pass integer value -1 for this flag"
   ]
  },
  {
   "cell_type": "code",
   "execution_count": 10,
   "id": "de7cc429-0d04-4fac-b39c-b2b7e410f500",
   "metadata": {},
   "outputs": [
    {
     "name": "stdout",
     "output_type": "stream",
     "text": [
      "The shape of the img object is (418, 627)\n"
     ]
    }
   ],
   "source": [
    "img = cv2.imread('img/cute_dog_small.jpg', cv2.IMREAD_GRAYSCALE)\n",
    "print(f'The shape of the img object is {img.shape}')"
   ]
  },
  {
   "cell_type": "code",
   "execution_count": 4,
   "id": "e01533d7-30bd-48e5-ad10-ad0df1ba5ea1",
   "metadata": {},
   "outputs": [],
   "source": [
    "camera = cv2.VideoCapture(0)\n",
    "for i in range(10):\n",
    "    return_value, image = camera.read()\n",
    "    cv2.imwrite('opencv'+str(i)+'.png', image)\n",
    "del(camera)"
   ]
  }
 ],
 "metadata": {
  "kernelspec": {
   "display_name": "Python 3 (ipykernel)",
   "language": "python",
   "name": "python3"
  },
  "language_info": {
   "codemirror_mode": {
    "name": "ipython",
    "version": 3
   },
   "file_extension": ".py",
   "mimetype": "text/x-python",
   "name": "python",
   "nbconvert_exporter": "python",
   "pygments_lexer": "ipython3",
   "version": "3.11.0"
  }
 },
 "nbformat": 4,
 "nbformat_minor": 5
}
